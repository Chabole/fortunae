{
 "cells": [
  {
   "cell_type": "markdown",
   "metadata": {},
   "source": [
    "## Primeiros passos com fortunae"
   ]
  },
  {
   "cell_type": "code",
   "execution_count": 35,
   "metadata": {},
   "outputs": [],
   "source": [
    "import fortunae as ft"
   ]
  },
  {
   "cell_type": "markdown",
   "metadata": {},
   "source": [
    "### Pegando os nomes dos ativos "
   ]
  },
  {
   "cell_type": "code",
   "execution_count": 4,
   "metadata": {},
   "outputs": [
    {
     "data": {
      "text/plain": [
       "0       AALR3\n",
       "1       ABCB4\n",
       "2       ABEV3\n",
       "3       ADHM3\n",
       "4       AERI3\n",
       "        ...  \n",
       "468     WIZS3\n",
       "469     WLMM3\n",
       "470     WLMM4\n",
       "471    WSON33\n",
       "472     YDUQ3\n",
       "Name: Ativos, Length: 473, dtype: object"
      ]
     },
     "execution_count": 4,
     "metadata": {},
     "output_type": "execute_result"
    }
   ],
   "source": [
    "# Ações\n",
    "ft.br_stocks()"
   ]
  },
  {
   "cell_type": "code",
   "execution_count": 8,
   "metadata": {},
   "outputs": [
    {
     "data": {
      "text/plain": [
       "0      ABCP11\n",
       "1      AFCR11\n",
       "2      AFHI11\n",
       "3      AFOF11\n",
       "4      AIEC11\n",
       "        ...  \n",
       "245    XPLG11\n",
       "246    XPML11\n",
       "247    XPPR11\n",
       "248    XPSF11\n",
       "249    XTED11\n",
       "Name: Ativos, Length: 250, dtype: object"
      ]
     },
     "execution_count": 8,
     "metadata": {},
     "output_type": "execute_result"
    }
   ],
   "source": [
    "# Fundos imobiliarios\n",
    "ft.br_fiis()"
   ]
  },
  {
   "cell_type": "markdown",
   "metadata": {},
   "source": [
    "### Buscando ações"
   ]
  },
  {
   "cell_type": "code",
   "execution_count": 2,
   "metadata": {},
   "outputs": [
    {
     "name": "stdout",
     "output_type": "stream",
     "text": [
      "Sucesso no download ativo CASH3\n",
      "Sucesso no download ativo MGLU3\n",
      "Sucesso no download ativo BBAS3\n"
     ]
    }
   ],
   "source": [
    "ações = ['mglu3', 'bbas3', 'cash3']\n",
    "df_ações = ft.get_stocks(ações)"
   ]
  },
  {
   "cell_type": "code",
   "execution_count": 5,
   "metadata": {},
   "outputs": [
    {
     "data": {
      "text/html": [
       "<div>\n",
       "<style scoped>\n",
       "    .dataframe tbody tr th:only-of-type {\n",
       "        vertical-align: middle;\n",
       "    }\n",
       "\n",
       "    .dataframe tbody tr th {\n",
       "        vertical-align: top;\n",
       "    }\n",
       "\n",
       "    .dataframe thead th {\n",
       "        text-align: right;\n",
       "    }\n",
       "</style>\n",
       "<table border=\"1\" class=\"dataframe\">\n",
       "  <thead>\n",
       "    <tr style=\"text-align: right;\">\n",
       "      <th></th>\n",
       "      <th>Ativo</th>\n",
       "      <th>Valor atual</th>\n",
       "      <th>Min. 52 semanas</th>\n",
       "      <th>Máx. 52 semanas</th>\n",
       "      <th>Valorização (12m)</th>\n",
       "      <th>TOMADOR (média)</th>\n",
       "      <th>DOADOR (média)</th>\n",
       "      <th>Nº DE AÇÕES ALUGADAS (dia)</th>\n",
       "      <th>VOLUME (dia)</th>\n",
       "      <th>Nº DE CONTRATOS</th>\n",
       "      <th>...</th>\n",
       "      <th>LPA</th>\n",
       "      <th>P/SR</th>\n",
       "      <th>P/Cap. Giro</th>\n",
       "      <th>P/Ativo Circ. Liq.</th>\n",
       "      <th>Dív. líquida/PL</th>\n",
       "      <th>Dív. líquida/EBITDA</th>\n",
       "      <th>Dív. líquida/EBIT</th>\n",
       "      <th>PL/Ativos</th>\n",
       "      <th>Passivos/Ativos</th>\n",
       "      <th>Liq. corrente</th>\n",
       "    </tr>\n",
       "  </thead>\n",
       "  <tbody>\n",
       "    <tr>\n",
       "      <th>0</th>\n",
       "      <td>MGLU3</td>\n",
       "      <td>7.08</td>\n",
       "      <td>5.74</td>\n",
       "      <td>26.22</td>\n",
       "      <td>71.58</td>\n",
       "      <td>1.27</td>\n",
       "      <td>1.27</td>\n",
       "      <td>16543099.0</td>\n",
       "      <td>111004194.0</td>\n",
       "      <td>745.0</td>\n",
       "      <td>...</td>\n",
       "      <td>0.11</td>\n",
       "      <td>1.32</td>\n",
       "      <td>7.27</td>\n",
       "      <td>4.44</td>\n",
       "      <td>0.02</td>\n",
       "      <td>0.14</td>\n",
       "      <td>0.24</td>\n",
       "      <td>0.36</td>\n",
       "      <td>0.64</td>\n",
       "      <td>1.49</td>\n",
       "    </tr>\n",
       "    <tr>\n",
       "      <th>1</th>\n",
       "      <td>BBAS3</td>\n",
       "      <td>32.49</td>\n",
       "      <td>26.45</td>\n",
       "      <td>35.24</td>\n",
       "      <td>1.12</td>\n",
       "      <td>0.12</td>\n",
       "      <td>0.12</td>\n",
       "      <td>2352948.0</td>\n",
       "      <td>76447281.0</td>\n",
       "      <td>152.0</td>\n",
       "      <td>...</td>\n",
       "      <td>6.07</td>\n",
       "      <td>0.88</td>\n",
       "      <td>1.90</td>\n",
       "      <td>0.05</td>\n",
       "      <td>0.00</td>\n",
       "      <td>0.00</td>\n",
       "      <td>0.00</td>\n",
       "      <td>0.07</td>\n",
       "      <td>0.93</td>\n",
       "      <td>13.29</td>\n",
       "    </tr>\n",
       "    <tr>\n",
       "      <th>2</th>\n",
       "      <td>CASH3</td>\n",
       "      <td>2.93</td>\n",
       "      <td>2.46</td>\n",
       "      <td>12.33</td>\n",
       "      <td>36.99</td>\n",
       "      <td>9.21</td>\n",
       "      <td>9.21</td>\n",
       "      <td>6689766.0</td>\n",
       "      <td>18932038.0</td>\n",
       "      <td>95.0</td>\n",
       "      <td>...</td>\n",
       "      <td>0.01</td>\n",
       "      <td>11.15</td>\n",
       "      <td>3.93</td>\n",
       "      <td>11.30</td>\n",
       "      <td>0.80</td>\n",
       "      <td>0.00</td>\n",
       "      <td>62.58</td>\n",
       "      <td>0.86</td>\n",
       "      <td>0.12</td>\n",
       "      <td>21.09</td>\n",
       "    </tr>\n",
       "  </tbody>\n",
       "</table>\n",
       "<p>3 rows × 43 columns</p>\n",
       "</div>"
      ],
      "text/plain": [
       "   Ativo  Valor atual  Min. 52 semanas  Máx. 52 semanas  Valorização (12m)  \\\n",
       "0  MGLU3         7.08             5.74            26.22              71.58   \n",
       "1  BBAS3        32.49            26.45            35.24               1.12   \n",
       "2  CASH3         2.93             2.46            12.33              36.99   \n",
       "\n",
       "   TOMADOR (média)  DOADOR (média)  Nº DE AÇÕES ALUGADAS (dia)  VOLUME (dia)  \\\n",
       "0             1.27            1.27                  16543099.0   111004194.0   \n",
       "1             0.12            0.12                   2352948.0    76447281.0   \n",
       "2             9.21            9.21                   6689766.0    18932038.0   \n",
       "\n",
       "   Nº DE CONTRATOS  ...   LPA   P/SR  P/Cap. Giro  P/Ativo Circ. Liq.  \\\n",
       "0            745.0  ...  0.11   1.32         7.27                4.44   \n",
       "1            152.0  ...  6.07   0.88         1.90                0.05   \n",
       "2             95.0  ...  0.01  11.15         3.93               11.30   \n",
       "\n",
       "   Dív. líquida/PL  Dív. líquida/EBITDA  Dív. líquida/EBIT  PL/Ativos  \\\n",
       "0             0.02                 0.14               0.24       0.36   \n",
       "1             0.00                 0.00               0.00       0.07   \n",
       "2             0.80                 0.00              62.58       0.86   \n",
       "\n",
       "   Passivos/Ativos  Liq. corrente  \n",
       "0             0.64           1.49  \n",
       "1             0.93          13.29  \n",
       "2             0.12          21.09  \n",
       "\n",
       "[3 rows x 43 columns]"
      ]
     },
     "execution_count": 5,
     "metadata": {},
     "output_type": "execute_result"
    }
   ],
   "source": [
    "df_ações"
   ]
  },
  {
   "cell_type": "markdown",
   "metadata": {},
   "source": [
    "### Buscando Fundos "
   ]
  },
  {
   "cell_type": "code",
   "execution_count": 6,
   "metadata": {},
   "outputs": [
    {
     "name": "stdout",
     "output_type": "stream",
     "text": [
      "Sucesso no download ativo KNRI11\n",
      "Sucesso no download ativo HGLG11\n",
      "Sucesso no download ativo BCFF11\n"
     ]
    }
   ],
   "source": [
    "fiis = ['hglg11', 'knri11', 'bcff11']\n",
    "df_fiis = ft.get_fiis(fiis)"
   ]
  },
  {
   "cell_type": "code",
   "execution_count": 7,
   "metadata": {},
   "outputs": [
    {
     "data": {
      "text/html": [
       "<div>\n",
       "<style scoped>\n",
       "    .dataframe tbody tr th:only-of-type {\n",
       "        vertical-align: middle;\n",
       "    }\n",
       "\n",
       "    .dataframe tbody tr th {\n",
       "        vertical-align: top;\n",
       "    }\n",
       "\n",
       "    .dataframe thead th {\n",
       "        text-align: right;\n",
       "    }\n",
       "</style>\n",
       "<table border=\"1\" class=\"dataframe\">\n",
       "  <thead>\n",
       "    <tr style=\"text-align: right;\">\n",
       "      <th></th>\n",
       "      <th>Ativo</th>\n",
       "      <th>Valor atual</th>\n",
       "      <th>Min. 52 semanas</th>\n",
       "      <th>Máx. 52 semanas</th>\n",
       "      <th>Valorização (12m)</th>\n",
       "      <th>P/VP</th>\n",
       "      <th>Valor em caixa</th>\n",
       "      <th>Nº de Cotistas</th>\n",
       "      <th>Ano passado</th>\n",
       "      <th>Ano atual</th>\n",
       "      <th>...</th>\n",
       "      <th>Nº DE AÇÕES ALUGADAS (dia)</th>\n",
       "      <th>VOLUME (dia)</th>\n",
       "      <th>Nº DE CONTRATOS</th>\n",
       "      <th></th>\n",
       "      <th>CNPJ</th>\n",
       "      <th>Nome Pregão</th>\n",
       "      <th>Ínicio do fundo</th>\n",
       "      <th>Prazo de duração</th>\n",
       "      <th>Tipo ANBIMA</th>\n",
       "      <th>Segmento ANBIMA</th>\n",
       "    </tr>\n",
       "  </thead>\n",
       "  <tbody>\n",
       "    <tr>\n",
       "      <th>0</th>\n",
       "      <td>HGLG11</td>\n",
       "      <td>170.14</td>\n",
       "      <td>155.30</td>\n",
       "      <td>179.75</td>\n",
       "      <td>3.98</td>\n",
       "      <td>1.15</td>\n",
       "      <td>10.41</td>\n",
       "      <td>300134.0</td>\n",
       "      <td>0.78</td>\n",
       "      <td>0.0000</td>\n",
       "      <td>...</td>\n",
       "      <td>96.0</td>\n",
       "      <td>16269.0</td>\n",
       "      <td>10.0</td>\n",
       "      <td></td>\n",
       "      <td>11728688/0001047</td>\n",
       "      <td>CGHG Logística</td>\n",
       "      <td>06/05/2010</td>\n",
       "      <td>Indeterminado</td>\n",
       "      <td>Renda</td>\n",
       "      <td>Logística</td>\n",
       "    </tr>\n",
       "    <tr>\n",
       "      <th>1</th>\n",
       "      <td>KNRI11</td>\n",
       "      <td>132.43</td>\n",
       "      <td>127.62</td>\n",
       "      <td>160.01</td>\n",
       "      <td>16.48</td>\n",
       "      <td>0.84</td>\n",
       "      <td>3.65</td>\n",
       "      <td>229978.0</td>\n",
       "      <td>0.69</td>\n",
       "      <td>0.0000</td>\n",
       "      <td>...</td>\n",
       "      <td>30.0</td>\n",
       "      <td>3986.0</td>\n",
       "      <td>7.0</td>\n",
       "      <td></td>\n",
       "      <td>12005956/0001065</td>\n",
       "      <td>Kinea Renda Imobiliária</td>\n",
       "      <td>11/08/2010</td>\n",
       "      <td>Indeterminado</td>\n",
       "      <td>Renda</td>\n",
       "      <td>Híbrido</td>\n",
       "    </tr>\n",
       "    <tr>\n",
       "      <th>2</th>\n",
       "      <td>BCFF11</td>\n",
       "      <td>73.61</td>\n",
       "      <td>61.20</td>\n",
       "      <td>93.17</td>\n",
       "      <td>20.40</td>\n",
       "      <td>0.93</td>\n",
       "      <td>1.25</td>\n",
       "      <td>284472.0</td>\n",
       "      <td>0.53</td>\n",
       "      <td>0.5429</td>\n",
       "      <td>...</td>\n",
       "      <td>134.0</td>\n",
       "      <td>9769.0</td>\n",
       "      <td>17.0</td>\n",
       "      <td></td>\n",
       "      <td>11026627/0001038</td>\n",
       "      <td>BTG Fundo de Fundos</td>\n",
       "      <td>07/01/2010</td>\n",
       "      <td>Indeterminado</td>\n",
       "      <td>Títulos e Valores Mobiliários</td>\n",
       "      <td>Títulos e Valores Mobiliários</td>\n",
       "    </tr>\n",
       "  </tbody>\n",
       "</table>\n",
       "<p>3 rows × 23 columns</p>\n",
       "</div>"
      ],
      "text/plain": [
       "    Ativo  Valor atual  Min. 52 semanas  Máx. 52 semanas  Valorização (12m)  \\\n",
       "0  HGLG11       170.14           155.30           179.75               3.98   \n",
       "1  KNRI11       132.43           127.62           160.01              16.48   \n",
       "2  BCFF11        73.61            61.20            93.17              20.40   \n",
       "\n",
       "   P/VP  Valor em caixa  Nº de Cotistas  Ano passado  Ano atual  ...  \\\n",
       "0  1.15           10.41        300134.0         0.78     0.0000  ...   \n",
       "1  0.84            3.65        229978.0         0.69     0.0000  ...   \n",
       "2  0.93            1.25        284472.0         0.53     0.5429  ...   \n",
       "\n",
       "   Nº DE AÇÕES ALUGADAS (dia)  VOLUME (dia)  Nº DE CONTRATOS    \\\n",
       "0                        96.0       16269.0             10.0     \n",
       "1                        30.0        3986.0              7.0     \n",
       "2                       134.0        9769.0             17.0     \n",
       "\n",
       "               CNPJ              Nome Pregão Ínicio do fundo Prazo de duração  \\\n",
       "0  11728688/0001047           CGHG Logística      06/05/2010    Indeterminado   \n",
       "1  12005956/0001065  Kinea Renda Imobiliária      11/08/2010    Indeterminado   \n",
       "2  11026627/0001038      BTG Fundo de Fundos      07/01/2010    Indeterminado   \n",
       "\n",
       "                     Tipo ANBIMA                Segmento ANBIMA  \n",
       "0                          Renda                      Logística  \n",
       "1                          Renda                        Híbrido  \n",
       "2  Títulos e Valores Mobiliários  Títulos e Valores Mobiliários  \n",
       "\n",
       "[3 rows x 23 columns]"
      ]
     },
     "execution_count": 7,
     "metadata": {},
     "output_type": "execute_result"
    }
   ],
   "source": [
    "df_fiis"
   ]
  },
  {
   "cell_type": "markdown",
   "metadata": {},
   "source": [
    "### Gravando os resultados no mesmo arquivo excel"
   ]
  },
  {
   "cell_type": "code",
   "execution_count": 8,
   "metadata": {},
   "outputs": [],
   "source": [
    "import pandas as pd\n",
    "\n",
    "with pd.ExcelWriter('outputs.xlsx') as writer:  \n",
    "    df_ações.to_excel(writer, sheet_name='acoes')\n",
    "    df_fiis.to_excel(writer, sheet_name='FIIs')"
   ]
  }
 ],
 "metadata": {
  "interpreter": {
   "hash": "894588d70223105318f3a6143f469ff55b12e3d45628534b2f37efc006a33ec3"
  },
  "kernelspec": {
   "display_name": "Python 3.8.8 64-bit ('base': conda)",
   "language": "python",
   "name": "python3"
  },
  "language_info": {
   "codemirror_mode": {
    "name": "ipython",
    "version": 3
   },
   "file_extension": ".py",
   "mimetype": "text/x-python",
   "name": "python",
   "nbconvert_exporter": "python",
   "pygments_lexer": "ipython3",
   "version": "3.8.8"
  },
  "orig_nbformat": 4
 },
 "nbformat": 4,
 "nbformat_minor": 2
}
